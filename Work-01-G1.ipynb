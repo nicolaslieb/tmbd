{
  "cells": [
    {
      "cell_type": "markdown",
      "id": "375aacc5",
      "metadata": {
        "id": "375aacc5"
      },
      "source": [
        "<br>\n",
        "\n",
        "# Técnicas Matemáticas para Big Data - Project NN?\n",
        "<br><br>\n"
      ]
    },
    {
      "cell_type": "markdown",
      "id": "8b47c68c",
      "metadata": {
        "id": "8b47c68c"
      },
      "source": [
        "GROUP NN:\n",
        "- Student 1 - Nº xxxxx - ??% Work Participation\n",
        "- Student 2 - Nº xxxxx - ??% Work Participation\n",
        "- Student 3 - Nº xxxxx - ??% Work Participation"
      ]
    },
    {
      "cell_type": "markdown",
      "id": "c66fb045",
      "metadata": {
        "id": "c66fb045"
      },
      "source": [
        "<br><br>\n",
        "\n",
        "## 1. Introduction to the problem of study [1,0 valor]\n",
        "\n",
        "\n",
        "\n",
        "Fuzzy logic is amongst the techniques that have emerged and been used in diverse practical control systems such as artificial intelligence, medicine, and economics, where stringent degrees of accuracy are not necessary, and a measure of uncertainty is required. This project seeks to portray the working principles and application of fuzzy logic within the domain of household electric power consumptions.\n",
        "\n",
        "The energy consumption of households has never failed to attract attention, and in contemporary times it is regarded as an accelerating benefit together with energy saving and environmental preservation. Household energy consumption levels are dependent on several factors such as the weather (temperature and humidity), and the time of the day which are influenced by behavioral cycles. Being capable of understanding and predicting energy consumption load in a more accurate way leads to better forecast of energy supply requirements, its distribution and results in savings on the energy expenses. The role of this study is to simulate the energy usage of a household and show how certain external factors such as temperature, humidity, and time of the day contribute to variation in energy usage. Fuzzy logic is an appropriate tool as it helps capture the uncertainty and ambiguity that is associated with both human actions and the external environment."
      ]
    },
    {
      "cell_type": "markdown",
      "id": "41af2342",
      "metadata": {
        "id": "41af2342"
      },
      "source": [
        "<br><br>\n",
        "## 2. Brief and general description of the approach and methods used [1,5 valor]\n",
        "\n",
        "\n",
        "The project employs the fuzzy logic approach to estimate the household energy consumption (`active_energy`) which is the consumption ‘active_energy’ of households by predicting interdependencies between temperature, and time of day. It is interesting to note that fuzzy logic is preferred because it enables the use of imprecise data for example “high temperature” or “evening” is real doesn’t have an exact definition and logic gives way to easiness by imprecision concept.\n",
        "\n",
        "The dataset consists of weather and energy records at a closer level of detail based on temp (temperature) and hour (the time of day). The model specifies rules for how combinations of these fuzzy variables set with membership functions such as ‘temp’-low, moderate, high, affect the levels of active_energy. Before setting up the fuzzy logic rules;\n",
        "\n",
        "- Extracted relevant columns for analysis, including humidity, temperature, and time.\n",
        "- Fuzzified each variable into various classes.\n",
        "- Concatenated the newly generated class columns for each variable of interest.\n",
        "\n",
        "\n",
        " This approach enabled us to design rules that better reflect real-world interactions between conditions like temperature fluctuations, daily routines, and household energy use patterns.\n",
        "\n"
      ]
    },
    {
      "cell_type": "markdown",
      "id": "0e324615",
      "metadata": {
        "id": "0e324615"
      },
      "source": [
        "<br><br>\n",
        "## 3. Brief History and literature review of the problem and methods/algorithms [1,5 valor]\n",
        "\n",
        "\n",
        "Several studies have demonstrated the effectiveness of fuzzy logic in energy prediction. For instance, researchers have applied fuzzy logic to model energy consumption based on weather parameters, finding it effective for interpreting the nonlinear and uncertain impacts of factors like temperature and humidity on energy demand. Other studies combine fuzzy logic with machine learning algorithms (like fuzzy neural networks) for even more complex predictions. The application in household energy consumption is particularly relevant as it enables a nuanced understanding of how fluctuating environmental conditions influence daily energy needs, making it valuable for energy conservation and smart home applications."
      ]
    },
    {
      "cell_type": "markdown",
      "id": "4889a980",
      "metadata": {
        "id": "4889a980"
      },
      "source": [
        "<br><br>\n",
        "## 4. About the main method/algorithm used [1,5 valor]\n",
        "\n",
        "\n",
        "The main method used in this study is fuzzy logic, a rule-based approach that handles imprecise and vague data by transforming crisp inputs (like exact temperature or time) into fuzzy values (e.g., \"moderate\" temperature). Fuzzy logic systems consist of three main components: fuzzification, rule evaluation, and defuzzification.\n",
        "\n",
        "1. **Data analysis**: This stage sets up the process of determining the input variables. In order to apply the rules, a preliniminary exploratory analysis will be. done within the variables to determine the variables most important and relevant to our output\n",
        "\n",
        "1. **Fuzzification**: The model first converts crisp values for `temp` and `hour` into fuzzy sets based on predefined membership functions. For example, a temperature of 25°C might belong partially to \"moderate\" and \"high\" fuzzy sets, with membership degrees calculated using triangular functions\n",
        "   \n",
        "2. **Rule Evaluation**: The model applies a set of if-then rules to interpret how different fuzzy conditions should influence `active_energy`. For instance, rules might state: *If temperature is high and time is afternoon, then active energy is high*. These rules help capture the relationship between environmental factors and energy use patterns.\n",
        "\n",
        "3. **Defuzzification**: Finally, the fuzzy results are converted back into a crisp output value (like a specific `active_energy` level) that can be compared with actual energy usage. The defuzzified output allows for an interpretable prediction that approximates household energy consumption based on the fuzzy conditions.\n",
        "\n",
        "Fuzzy logic's flexibility and interpretability make it a suitable choice for modeling complex, uncertain relationships in energy consumption, especially where exact input-output relationships are challenging to define. This approach's main advantage is its ability to handle the ambiguity of real-world conditions, providing an intuitive, human-like way to model energy demand based on weather and time patterns."
      ]
    },
    {
      "cell_type": "code",
      "execution_count": null,
      "id": "941f4c40",
      "metadata": {
        "id": "941f4c40"
      },
      "outputs": [],
      "source": []
    },
    {
      "cell_type": "code",
      "execution_count": null,
      "id": "021bedda",
      "metadata": {
        "id": "021bedda"
      },
      "outputs": [],
      "source": []
    },
    {
      "cell_type": "markdown",
      "id": "52795c65",
      "metadata": {
        "id": "52795c65"
      },
      "source": [
        "<br><br>\n",
        "\n",
        "## 5. Python imports and global configurations [0,5 valor]"
      ]
    },
    {
      "cell_type": "markdown",
      "id": "6f0f3deb",
      "metadata": {
        "id": "6f0f3deb"
      },
      "source": [
        "### Install and import the necessary libraries to compute the Bayesian Network and perform other methods  "
      ]
    },
    {
      "cell_type": "code",
      "execution_count": 3,
      "id": "b5177dbe",
      "metadata": {
        "id": "b5177dbe"
      },
      "outputs": [],
      "source": [
        "# %pip install seaborn\n",
        "%pip install pandas\n",
        "%pip install matplotlib\n",
        "%pip install meteostat\n",
        "# %pip install numpy\n",
        "# %pip install pomegranate\n",
        "# %pip install torch\n",
        "# %pip install Pillow"
      ]
    },
    {
      "cell_type": "code",
      "execution_count": 17,
      "id": "9197ce8a",
      "metadata": {
        "id": "9197ce8a"
      },
      "outputs": [],
      "source": [
        "import pandas as pd\n",
        "import numpy as np\n",
        "import matplotlib.pyplot as plt\n",
        "import math\n",
        "import seaborn as sns\n",
        "from datetime import datetime\n",
        "from meteostat import Point, Hourly"
      ]
    },
    {
      "cell_type": "markdown",
      "id": "bb739aae",
      "metadata": {
        "id": "bb739aae"
      },
      "source": [
        "<br><br>\n",
        "\n",
        "## 6. Dataset and variables explanation [1,5 valor]"
      ]
    },
    {
      "cell_type": "markdown",
      "id": "a6c50fd4",
      "metadata": {
        "id": "a6c50fd4"
      },
      "source": [
        "The first dataset is electric power consumption data from a house with a one-minute sampling rate over a period of almost 4 years. Different electrical quantities and some sub-metering values are available. The dataset has 2,075,259 rows and 9 columns. The dataset is available at: https://www.kaggle.com/datasets/uciml/electric-power-consumption-data-set"
      ]
    },
    {
      "cell_type": "code",
      "source": [],
      "metadata": {
        "id": "G4O2CcwbrUtr"
      },
      "id": "G4O2CcwbrUtr",
      "execution_count": 9,
      "outputs": []
    },
    {
      "cell_type": "code",
      "execution_count": null,
      "id": "8b9dc304",
      "metadata": {
        "id": "8b9dc304",
        "outputId": "dad32b10-50e1-49fd-ac73-0eab66e22e4b"
      },
      "outputs": [
        {
          "data": {
            "text/html": [
              "<div>\n",
              "<style scoped>\n",
              "    .dataframe tbody tr th:only-of-type {\n",
              "        vertical-align: middle;\n",
              "    }\n",
              "\n",
              "    .dataframe tbody tr th {\n",
              "        vertical-align: top;\n",
              "    }\n",
              "\n",
              "    .dataframe thead th {\n",
              "        text-align: right;\n",
              "    }\n",
              "</style>\n",
              "<table border=\"1\" class=\"dataframe\">\n",
              "  <thead>\n",
              "    <tr style=\"text-align: right;\">\n",
              "      <th></th>\n",
              "      <th>Date</th>\n",
              "      <th>Time</th>\n",
              "      <th>Global_active_power</th>\n",
              "      <th>Global_reactive_power</th>\n",
              "      <th>Voltage</th>\n",
              "      <th>Global_intensity</th>\n",
              "      <th>Sub_metering_1</th>\n",
              "      <th>Sub_metering_2</th>\n",
              "      <th>Sub_metering_3</th>\n",
              "    </tr>\n",
              "  </thead>\n",
              "  <tbody>\n",
              "    <tr>\n",
              "      <th>0</th>\n",
              "      <td>16/12/2006</td>\n",
              "      <td>17:24:00</td>\n",
              "      <td>4.216</td>\n",
              "      <td>0.418</td>\n",
              "      <td>234.840</td>\n",
              "      <td>18.400</td>\n",
              "      <td>0.000</td>\n",
              "      <td>1.000</td>\n",
              "      <td>17.0</td>\n",
              "    </tr>\n",
              "    <tr>\n",
              "      <th>1</th>\n",
              "      <td>16/12/2006</td>\n",
              "      <td>17:25:00</td>\n",
              "      <td>5.360</td>\n",
              "      <td>0.436</td>\n",
              "      <td>233.630</td>\n",
              "      <td>23.000</td>\n",
              "      <td>0.000</td>\n",
              "      <td>1.000</td>\n",
              "      <td>16.0</td>\n",
              "    </tr>\n",
              "    <tr>\n",
              "      <th>2</th>\n",
              "      <td>16/12/2006</td>\n",
              "      <td>17:26:00</td>\n",
              "      <td>5.374</td>\n",
              "      <td>0.498</td>\n",
              "      <td>233.290</td>\n",
              "      <td>23.000</td>\n",
              "      <td>0.000</td>\n",
              "      <td>2.000</td>\n",
              "      <td>17.0</td>\n",
              "    </tr>\n",
              "    <tr>\n",
              "      <th>3</th>\n",
              "      <td>16/12/2006</td>\n",
              "      <td>17:27:00</td>\n",
              "      <td>5.388</td>\n",
              "      <td>0.502</td>\n",
              "      <td>233.740</td>\n",
              "      <td>23.000</td>\n",
              "      <td>0.000</td>\n",
              "      <td>1.000</td>\n",
              "      <td>17.0</td>\n",
              "    </tr>\n",
              "    <tr>\n",
              "      <th>4</th>\n",
              "      <td>16/12/2006</td>\n",
              "      <td>17:28:00</td>\n",
              "      <td>3.666</td>\n",
              "      <td>0.528</td>\n",
              "      <td>235.680</td>\n",
              "      <td>15.800</td>\n",
              "      <td>0.000</td>\n",
              "      <td>1.000</td>\n",
              "      <td>17.0</td>\n",
              "    </tr>\n",
              "  </tbody>\n",
              "</table>\n",
              "</div>"
            ],
            "text/plain": [
              "         Date      Time Global_active_power Global_reactive_power  Voltage  \\\n",
              "0  16/12/2006  17:24:00               4.216                 0.418  234.840   \n",
              "1  16/12/2006  17:25:00               5.360                 0.436  233.630   \n",
              "2  16/12/2006  17:26:00               5.374                 0.498  233.290   \n",
              "3  16/12/2006  17:27:00               5.388                 0.502  233.740   \n",
              "4  16/12/2006  17:28:00               3.666                 0.528  235.680   \n",
              "\n",
              "  Global_intensity Sub_metering_1 Sub_metering_2  Sub_metering_3  \n",
              "0           18.400          0.000          1.000            17.0  \n",
              "1           23.000          0.000          1.000            16.0  \n",
              "2           23.000          0.000          2.000            17.0  \n",
              "3           23.000          0.000          1.000            17.0  \n",
              "4           15.800          0.000          1.000            17.0  "
            ]
          },
          "execution_count": 16,
          "metadata": {},
          "output_type": "execute_result"
        }
      ],
      "source": [
        "power_data = pd.read_csv('household_power_consumption.csv', delimiter=';', low_memory=False)\n",
        "power_data.head()"
      ]
    },
    {
      "cell_type": "code",
      "source": [
        "# calculate 1.(global_active_power*1000/60 - sub_metering_1 - sub_metering_2 - sub_metering_3) represents the active energy consumed every minute (in watt hour) in the household by electrical equipment not measured in sub-meterings 1, 2 and 3.\n",
        "# parse numeric columns\n",
        "power['Global_active_power'] = pd.to_numeric(power['Global_active_power'], errors='coerce')\n",
        "power['Sub_metering_1'] = pd.to_numeric(power['Sub_metering_1'], errors='coerce')\n",
        "power['Sub_metering_2'] = pd.to_numeric(power['Sub_metering_2'], errors='coerce')\n",
        "power['Sub_metering_3'] = pd.to_numeric(power['Sub_metering_3'], errors='coerce')\n",
        "\n",
        "power['active_energy'] = (power['Global_active_power']*1000/60 - power['Sub_metering_1'] - power['Sub_metering_2'] - power['Sub_metering_3'])\n"
      ],
      "metadata": {
        "id": "BohoiJOoyBiH"
      },
      "id": "BohoiJOoyBiH",
      "execution_count": 11,
      "outputs": []
    },
    {
      "cell_type": "code",
      "source": [],
      "metadata": {
        "id": "ETYzjdl6yddp"
      },
      "id": "ETYzjdl6yddp",
      "execution_count": 12,
      "outputs": []
    },
    {
      "cell_type": "markdown",
      "id": "69a45859",
      "metadata": {
        "id": "69a45859"
      },
      "source": [
        "The second dataset is generated with meteostat library and additionaly script\n",
        "\n",
        "```python\n",
        "start = datetime(2006, 12, 16)\n",
        "end = datetime(2010, 11, 26)\n",
        "location = Point(48.77644, 2.29026, 75) #Sceaux, France\n",
        "meteodata = Hourly(location, start, end)\n",
        "meteodata = meteodata.fetch()\n",
        "meteodata.to_csv('sceaux_hourly_temperatures.csv', sep=';')\n",
        "```"
      ]
    },
    {
      "cell_type": "code",
      "execution_count": null,
      "id": "8377d9a6",
      "metadata": {
        "id": "8377d9a6",
        "outputId": "83bed944-2e5b-4762-f243-7f92ae6a73ae"
      },
      "outputs": [
        {
          "data": {
            "text/html": [
              "<div>\n",
              "<style scoped>\n",
              "    .dataframe tbody tr th:only-of-type {\n",
              "        vertical-align: middle;\n",
              "    }\n",
              "\n",
              "    .dataframe tbody tr th {\n",
              "        vertical-align: top;\n",
              "    }\n",
              "\n",
              "    .dataframe thead th {\n",
              "        text-align: right;\n",
              "    }\n",
              "</style>\n",
              "<table border=\"1\" class=\"dataframe\">\n",
              "  <thead>\n",
              "    <tr style=\"text-align: right;\">\n",
              "      <th></th>\n",
              "      <th>time</th>\n",
              "      <th>temp</th>\n",
              "      <th>dwpt</th>\n",
              "      <th>rhum</th>\n",
              "      <th>prcp</th>\n",
              "      <th>snow</th>\n",
              "      <th>wdir</th>\n",
              "      <th>wspd</th>\n",
              "      <th>wpgt</th>\n",
              "      <th>pres</th>\n",
              "      <th>tsun</th>\n",
              "      <th>coco</th>\n",
              "    </tr>\n",
              "  </thead>\n",
              "  <tbody>\n",
              "    <tr>\n",
              "      <th>0</th>\n",
              "      <td>2006-12-16 00:00:00</td>\n",
              "      <td>6.0</td>\n",
              "      <td>3.0</td>\n",
              "      <td>81.0</td>\n",
              "      <td>NaN</td>\n",
              "      <td>NaN</td>\n",
              "      <td>210.0</td>\n",
              "      <td>14.8</td>\n",
              "      <td>NaN</td>\n",
              "      <td>1023.9</td>\n",
              "      <td>NaN</td>\n",
              "      <td>NaN</td>\n",
              "    </tr>\n",
              "    <tr>\n",
              "      <th>1</th>\n",
              "      <td>2006-12-16 01:00:00</td>\n",
              "      <td>5.3</td>\n",
              "      <td>2.6</td>\n",
              "      <td>83.0</td>\n",
              "      <td>0.0</td>\n",
              "      <td>NaN</td>\n",
              "      <td>200.0</td>\n",
              "      <td>7.6</td>\n",
              "      <td>NaN</td>\n",
              "      <td>1023.7</td>\n",
              "      <td>NaN</td>\n",
              "      <td>NaN</td>\n",
              "    </tr>\n",
              "    <tr>\n",
              "      <th>2</th>\n",
              "      <td>2006-12-16 02:00:00</td>\n",
              "      <td>4.9</td>\n",
              "      <td>2.4</td>\n",
              "      <td>84.0</td>\n",
              "      <td>0.0</td>\n",
              "      <td>NaN</td>\n",
              "      <td>200.0</td>\n",
              "      <td>11.2</td>\n",
              "      <td>NaN</td>\n",
              "      <td>1023.3</td>\n",
              "      <td>NaN</td>\n",
              "      <td>NaN</td>\n",
              "    </tr>\n",
              "    <tr>\n",
              "      <th>3</th>\n",
              "      <td>2006-12-16 03:00:00</td>\n",
              "      <td>4.0</td>\n",
              "      <td>2.0</td>\n",
              "      <td>87.0</td>\n",
              "      <td>NaN</td>\n",
              "      <td>NaN</td>\n",
              "      <td>170.0</td>\n",
              "      <td>11.2</td>\n",
              "      <td>NaN</td>\n",
              "      <td>1022.8</td>\n",
              "      <td>NaN</td>\n",
              "      <td>NaN</td>\n",
              "    </tr>\n",
              "    <tr>\n",
              "      <th>4</th>\n",
              "      <td>2006-12-16 04:00:00</td>\n",
              "      <td>4.2</td>\n",
              "      <td>2.7</td>\n",
              "      <td>90.0</td>\n",
              "      <td>0.0</td>\n",
              "      <td>NaN</td>\n",
              "      <td>200.0</td>\n",
              "      <td>14.8</td>\n",
              "      <td>NaN</td>\n",
              "      <td>1022.5</td>\n",
              "      <td>NaN</td>\n",
              "      <td>NaN</td>\n",
              "    </tr>\n",
              "  </tbody>\n",
              "</table>\n",
              "</div>"
            ],
            "text/plain": [
              "                  time  temp  dwpt  rhum  prcp  snow   wdir  wspd  wpgt  \\\n",
              "0  2006-12-16 00:00:00   6.0   3.0  81.0   NaN   NaN  210.0  14.8   NaN   \n",
              "1  2006-12-16 01:00:00   5.3   2.6  83.0   0.0   NaN  200.0   7.6   NaN   \n",
              "2  2006-12-16 02:00:00   4.9   2.4  84.0   0.0   NaN  200.0  11.2   NaN   \n",
              "3  2006-12-16 03:00:00   4.0   2.0  87.0   NaN   NaN  170.0  11.2   NaN   \n",
              "4  2006-12-16 04:00:00   4.2   2.7  90.0   0.0   NaN  200.0  14.8   NaN   \n",
              "\n",
              "     pres  tsun  coco  \n",
              "0  1023.9   NaN   NaN  \n",
              "1  1023.7   NaN   NaN  \n",
              "2  1023.3   NaN   NaN  \n",
              "3  1022.8   NaN   NaN  \n",
              "4  1022.5   NaN   NaN  "
            ]
          },
          "execution_count": 17,
          "metadata": {},
          "output_type": "execute_result"
        }
      ],
      "source": [
        "meteo_data = pd.read_csv('sceaux_hourly_temperatures.csv', delimiter=';', low_memory=False)\n",
        "meteo_data.head()"
      ]
    },
    {
      "cell_type": "markdown",
      "id": "6f934af2",
      "metadata": {
        "id": "6f934af2"
      },
      "source": [
        "To merge this datasets into a single one, we will use the date and time columns. The datasets use different formats for the date and time columns, so we will need to convert them to a common format before merge."
      ]
    },
    {
      "cell_type": "code",
      "execution_count": null,
      "id": "83a8f613",
      "metadata": {
        "id": "83a8f613",
        "outputId": "89a445f0-7283-4eba-d650-400aeeeb4335"
      },
      "outputs": [
        {
          "data": {
            "text/html": [
              "<div>\n",
              "<style scoped>\n",
              "    .dataframe tbody tr th:only-of-type {\n",
              "        vertical-align: middle;\n",
              "    }\n",
              "\n",
              "    .dataframe tbody tr th {\n",
              "        vertical-align: top;\n",
              "    }\n",
              "\n",
              "    .dataframe thead th {\n",
              "        text-align: right;\n",
              "    }\n",
              "</style>\n",
              "<table border=\"1\" class=\"dataframe\">\n",
              "  <thead>\n",
              "    <tr style=\"text-align: right;\">\n",
              "      <th></th>\n",
              "      <th>Date</th>\n",
              "      <th>Time</th>\n",
              "      <th>Global_active_power</th>\n",
              "      <th>Global_reactive_power</th>\n",
              "      <th>Voltage</th>\n",
              "      <th>Global_intensity</th>\n",
              "      <th>Sub_metering_1</th>\n",
              "      <th>Sub_metering_2</th>\n",
              "      <th>Sub_metering_3</th>\n",
              "      <th>timestamp</th>\n",
              "      <th>...</th>\n",
              "      <th>dwpt</th>\n",
              "      <th>rhum</th>\n",
              "      <th>prcp</th>\n",
              "      <th>snow</th>\n",
              "      <th>wdir</th>\n",
              "      <th>wspd</th>\n",
              "      <th>wpgt</th>\n",
              "      <th>pres</th>\n",
              "      <th>tsun</th>\n",
              "      <th>coco</th>\n",
              "    </tr>\n",
              "  </thead>\n",
              "  <tbody>\n",
              "    <tr>\n",
              "      <th>0</th>\n",
              "      <td>16/12/2006</td>\n",
              "      <td>18:00:00</td>\n",
              "      <td>2.790</td>\n",
              "      <td>0.180</td>\n",
              "      <td>237.520</td>\n",
              "      <td>11.800</td>\n",
              "      <td>0.000</td>\n",
              "      <td>0.000</td>\n",
              "      <td>18.0</td>\n",
              "      <td>2006-12-16 18:00:00</td>\n",
              "      <td>...</td>\n",
              "      <td>4.2</td>\n",
              "      <td>83.0</td>\n",
              "      <td>NaN</td>\n",
              "      <td>NaN</td>\n",
              "      <td>340.0</td>\n",
              "      <td>14.8</td>\n",
              "      <td>NaN</td>\n",
              "      <td>1026.8</td>\n",
              "      <td>NaN</td>\n",
              "      <td>NaN</td>\n",
              "    </tr>\n",
              "    <tr>\n",
              "      <th>1</th>\n",
              "      <td>16/12/2006</td>\n",
              "      <td>19:00:00</td>\n",
              "      <td>4.070</td>\n",
              "      <td>0.088</td>\n",
              "      <td>231.990</td>\n",
              "      <td>17.400</td>\n",
              "      <td>0.000</td>\n",
              "      <td>1.000</td>\n",
              "      <td>17.0</td>\n",
              "      <td>2006-12-16 19:00:00</td>\n",
              "      <td>...</td>\n",
              "      <td>3.7</td>\n",
              "      <td>83.0</td>\n",
              "      <td>0.0</td>\n",
              "      <td>NaN</td>\n",
              "      <td>340.0</td>\n",
              "      <td>14.8</td>\n",
              "      <td>NaN</td>\n",
              "      <td>1027.5</td>\n",
              "      <td>NaN</td>\n",
              "      <td>NaN</td>\n",
              "    </tr>\n",
              "    <tr>\n",
              "      <th>2</th>\n",
              "      <td>16/12/2006</td>\n",
              "      <td>20:00:00</td>\n",
              "      <td>3.206</td>\n",
              "      <td>0.078</td>\n",
              "      <td>232.430</td>\n",
              "      <td>13.800</td>\n",
              "      <td>0.000</td>\n",
              "      <td>0.000</td>\n",
              "      <td>16.0</td>\n",
              "      <td>2006-12-16 20:00:00</td>\n",
              "      <td>...</td>\n",
              "      <td>4.0</td>\n",
              "      <td>87.0</td>\n",
              "      <td>0.0</td>\n",
              "      <td>NaN</td>\n",
              "      <td>310.0</td>\n",
              "      <td>7.6</td>\n",
              "      <td>NaN</td>\n",
              "      <td>1028.0</td>\n",
              "      <td>NaN</td>\n",
              "      <td>NaN</td>\n",
              "    </tr>\n",
              "    <tr>\n",
              "      <th>3</th>\n",
              "      <td>16/12/2006</td>\n",
              "      <td>21:00:00</td>\n",
              "      <td>3.314</td>\n",
              "      <td>0.072</td>\n",
              "      <td>236.760</td>\n",
              "      <td>14.000</td>\n",
              "      <td>0.000</td>\n",
              "      <td>0.000</td>\n",
              "      <td>17.0</td>\n",
              "      <td>2006-12-16 21:00:00</td>\n",
              "      <td>...</td>\n",
              "      <td>3.8</td>\n",
              "      <td>88.0</td>\n",
              "      <td>NaN</td>\n",
              "      <td>NaN</td>\n",
              "      <td>310.0</td>\n",
              "      <td>7.6</td>\n",
              "      <td>NaN</td>\n",
              "      <td>1028.6</td>\n",
              "      <td>NaN</td>\n",
              "      <td>NaN</td>\n",
              "    </tr>\n",
              "    <tr>\n",
              "      <th>4</th>\n",
              "      <td>16/12/2006</td>\n",
              "      <td>22:00:00</td>\n",
              "      <td>3.464</td>\n",
              "      <td>0.170</td>\n",
              "      <td>236.030</td>\n",
              "      <td>14.600</td>\n",
              "      <td>0.000</td>\n",
              "      <td>1.000</td>\n",
              "      <td>17.0</td>\n",
              "      <td>2006-12-16 22:00:00</td>\n",
              "      <td>...</td>\n",
              "      <td>3.8</td>\n",
              "      <td>91.0</td>\n",
              "      <td>0.0</td>\n",
              "      <td>NaN</td>\n",
              "      <td>260.0</td>\n",
              "      <td>7.6</td>\n",
              "      <td>NaN</td>\n",
              "      <td>1028.9</td>\n",
              "      <td>NaN</td>\n",
              "      <td>NaN</td>\n",
              "    </tr>\n",
              "  </tbody>\n",
              "</table>\n",
              "<p>5 rows × 22 columns</p>\n",
              "</div>"
            ],
            "text/plain": [
              "         Date      Time Global_active_power Global_reactive_power  Voltage  \\\n",
              "0  16/12/2006  18:00:00               2.790                 0.180  237.520   \n",
              "1  16/12/2006  19:00:00               4.070                 0.088  231.990   \n",
              "2  16/12/2006  20:00:00               3.206                 0.078  232.430   \n",
              "3  16/12/2006  21:00:00               3.314                 0.072  236.760   \n",
              "4  16/12/2006  22:00:00               3.464                 0.170  236.030   \n",
              "\n",
              "  Global_intensity Sub_metering_1 Sub_metering_2  Sub_metering_3  \\\n",
              "0           11.800          0.000          0.000            18.0   \n",
              "1           17.400          0.000          1.000            17.0   \n",
              "2           13.800          0.000          0.000            16.0   \n",
              "3           14.000          0.000          0.000            17.0   \n",
              "4           14.600          0.000          1.000            17.0   \n",
              "\n",
              "            timestamp  ... dwpt  rhum  prcp  snow   wdir  wspd  wpgt    pres  \\\n",
              "0 2006-12-16 18:00:00  ...  4.2  83.0   NaN   NaN  340.0  14.8   NaN  1026.8   \n",
              "1 2006-12-16 19:00:00  ...  3.7  83.0   0.0   NaN  340.0  14.8   NaN  1027.5   \n",
              "2 2006-12-16 20:00:00  ...  4.0  87.0   0.0   NaN  310.0   7.6   NaN  1028.0   \n",
              "3 2006-12-16 21:00:00  ...  3.8  88.0   NaN   NaN  310.0   7.6   NaN  1028.6   \n",
              "4 2006-12-16 22:00:00  ...  3.8  91.0   0.0   NaN  260.0   7.6   NaN  1028.9   \n",
              "\n",
              "   tsun  coco  \n",
              "0   NaN   NaN  \n",
              "1   NaN   NaN  \n",
              "2   NaN   NaN  \n",
              "3   NaN   NaN  \n",
              "4   NaN   NaN  \n",
              "\n",
              "[5 rows x 22 columns]"
            ]
          },
          "execution_count": 20,
          "metadata": {},
          "output_type": "execute_result"
        }
      ],
      "source": [
        "power_data['timestamp'] = pd.to_datetime(power_data['Date'] + ' ' + power_data['Time'], format='%d/%m/%Y %H:%M:%S')\n",
        "meteo_data['timestamp'] = pd.to_datetime(meteo_data['time'], format='%Y-%m-%d %H:%M:%S')\n",
        "data = pd.merge(power_data, meteo_data, on='timestamp', how='inner')\n",
        "data.head()"
      ]
    },
    {
      "cell_type": "markdown",
      "id": "870bd2a6",
      "metadata": {
        "id": "870bd2a6"
      },
      "source": [
        "Here there are many variables, but we will use only three ones: time, active power and temperature. The dataset has 34,567 rows."
      ]
    },
    {
      "cell_type": "markdown",
      "source": [
        "#### variable explaination\n",
        "\n",
        "-  temp: The air temperature (°C)\n",
        "-active_energy: An additional measure of energ that captures active energy used in the household.\n",
        "- time_minutes: timestamp converted to time in minutes"
      ],
      "metadata": {
        "id": "Fk14KtsH9bz8"
      },
      "id": "Fk14KtsH9bz8"
    },
    {
      "cell_type": "code",
      "source": [
        "### lets extract our variable of interest\n",
        "\n",
        "data=data[['timestamp','active_energy', 'temp' ]]\n",
        "\n",
        "# Convert timestamp to datetime and then to time\n",
        "data['timestamp'] = pd.to_datetime(data['timestamp'], format='%H:%M:%S').dt.time\n",
        "\n",
        "# Convert times to minutes since midnight\n",
        "data['time_minutes'] = data['timestamp'].apply(lambda t: t.hour * 60 + t.minute)\n",
        "\n",
        "\n"
      ],
      "metadata": {
        "id": "ijvg1-zLz9Af"
      },
      "id": "ijvg1-zLz9Af",
      "execution_count": null,
      "outputs": []
    },
    {
      "cell_type": "markdown",
      "id": "e5703771",
      "metadata": {
        "id": "e5703771"
      },
      "source": [
        "<br><br>\n",
        "\n",
        "## 7. Main code as possible solution to the problem [1,5 valor]"
      ]
    },
    {
      "cell_type": "code",
      "source": [
        "data=data[['time_minutes','active_energy', 'temp' ]]\n",
        "\n",
        "#heatmap to better understand relationship between variables.\n",
        "\n",
        "# Compute correlation matrix for these columns\n",
        "correlation_matrix = data.corr()\n",
        "\n",
        "# Plot the heatmap\n",
        "plt.figure(figsize=(7,5))\n",
        "sns.heatmap(correlation_matrix, annot=True, cmap=\"coolwarm\", vmin=-1, vmax=1, fmt=\".2f\")\n",
        "plt.title(\"Correlation Matrix Heatmap\")\n",
        "plt.show()\n"
      ],
      "metadata": {
        "id": "DzRmR7-vy5M-",
        "outputId": "f8938dd8-f5e0-4fbd-c24a-5825d5ad79fc",
        "colab": {
          "base_uri": "https://localhost:8080/",
          "height": 468
        }
      },
      "id": "DzRmR7-vy5M-",
      "execution_count": 19,
      "outputs": [
        {
          "output_type": "display_data",
          "data": {
            "text/plain": [
              "<Figure size 700x500 with 2 Axes>"
            ],
            "image/png": "[encoded data removed]"
          },
          "metadata": {}
        }
      ]
    },
    {
      "cell_type": "markdown",
      "source": [
        "**Fuzzy Membership Degree Calculation**"
      ],
      "metadata": {
        "id": "1iR3_Oea-lb8"
      },
      "id": "1iR3_Oea-lb8"
    },
    {
      "cell_type": "markdown",
      "source": [
        "**Quantile Calculation and Fuzzy Interpolation Initialization**"
      ],
      "metadata": {
        "id": "AffVw47d-0rN"
      },
      "id": "AffVw47d-0rN"
    },
    {
      "cell_type": "markdown",
      "source": [
        "**Membership Degree Calculation for Temperature, Time, and Energy**"
      ],
      "metadata": {
        "id": "toR-gnbX-9Hr"
      },
      "id": "toR-gnbX-9Hr"
    },
    {
      "cell_type": "markdown",
      "id": "87a15554",
      "metadata": {
        "id": "87a15554"
      },
      "source": [
        "<br><br>\n",
        "\n",
        "## 8. Analysis of Example 1 [3,0 valor]"
      ]
    },
    {
      "cell_type": "markdown",
      "id": "a0f7810c",
      "metadata": {
        "id": "a0f7810c"
      },
      "source": [
        "<br><br>\n",
        "\n",
        "## 9. Analysis of Example 2 [3,0 valor]"
      ]
    },
    {
      "cell_type": "markdown",
      "id": "1e821172",
      "metadata": {
        "id": "1e821172"
      },
      "source": [
        "<br><br>\n",
        "## 10. Pros and cons of the approach [2,0 valor]"
      ]
    },
    {
      "cell_type": "markdown",
      "id": "60974d68",
      "metadata": {
        "id": "60974d68"
      },
      "source": [
        "<br><br>\n",
        "## 11. Future improvements [2,0 valor]"
      ]
    },
    {
      "cell_type": "markdown",
      "id": "04b1eb04",
      "metadata": {
        "id": "04b1eb04"
      },
      "source": [
        "<br>\n",
        "<div style=\"text-align: center;\">\n",
        "    <br><br>\n",
        "    <p style=\"font-size: 40px;\">References [1,0 valor]</p>\n",
        "</div>\n",
        "<br>\n"
      ]
    }
  ],
  "metadata": {
    "kernelspec": {
      "display_name": "ds",
      "language": "python",
      "name": "python3"
    },
    "language_info": {
      "codemirror_mode": {
        "name": "ipython",
        "version": 3
      },
      "file_extension": ".py",
      "mimetype": "text/x-python",
      "name": "python",
      "nbconvert_exporter": "python",
      "pygments_lexer": "ipython3",
      "version": "3.12.6"
    },
    "colab": {
      "provenance": []
    }
  },
  "nbformat": 4,
  "nbformat_minor": 5
}